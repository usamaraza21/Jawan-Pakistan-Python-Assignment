{
 "cells": [
  {
   "cell_type": "markdown",
   "id": "7a956a51",
   "metadata": {},
   "source": [
    "# Q.No.1\n",
    "Write a Python program to print the following string in a specific format (see the output)\n",
    "Twinkle, twinkle, little star,\n",
    "        How I wonder what you are! \n",
    "                Up above the world so high,   \t\t\n",
    "                Like a diamond in the sky. \n",
    "Twinkle, twinkle, little star, \n",
    "        How I wonder what you are\n"
   ]
  },
  {
   "cell_type": "code",
   "execution_count": 17,
   "id": "e825c80e",
   "metadata": {},
   "outputs": [
    {
     "name": "stdout",
     "output_type": "stream",
     "text": [
      "--OUTPUT--\n",
      "Twinkle, twinkle, little star,\n",
      "\tHow I wonder what you are!\n",
      "\t\tUp above the world so high,\n",
      "\t\tLike a diamond in the sky.\n",
      "Twinkle, twinkle, little star,\n",
      "\tHow I wonder what you are\n"
     ]
    }
   ],
   "source": [
    "print(\"--OUTPUT--\");\n",
    "print(\"Twinkle, twinkle, little star,\\n\\tHow I wonder what you are!\\n\\t\\tUp above the world so high,\\n\\t\\tLike a diamond in the sky.\\nTwinkle, twinkle, little star,\\n\\tHow I wonder what you are\");"
   ]
  },
  {
   "cell_type": "markdown",
   "id": "5a40669b",
   "metadata": {},
   "source": [
    "# Q.No.2\n",
    "Write a python program to get the python version you are using."
   ]
  },
  {
   "cell_type": "code",
   "execution_count": 12,
   "id": "3308f9bf",
   "metadata": {},
   "outputs": [
    {
     "name": "stdout",
     "output_type": "stream",
     "text": [
      "--OUTPUT--\n",
      "python version is 3.8.8 (default, Apr 13 2021, 15:08:03) [MSC v.1916 64 bit (AMD64)]\n",
      "info of python version is sys.version_info(major=3, minor=8, micro=8, releaselevel='final', serial=0)\n"
     ]
    }
   ],
   "source": [
    "import sys\n",
    "print(\"--OUTPUT--\");\n",
    "print(\"python version is\",sys.version);\n",
    "print(\"info of python version is\",sys.version_info);\n"
   ]
  },
  {
   "cell_type": "markdown",
   "id": "65276edd",
   "metadata": {},
   "source": [
    "# Q.No.3\n",
    "Write a python program to display the current date and time."
   ]
  },
  {
   "cell_type": "code",
   "execution_count": 80,
   "id": "b027eda1",
   "metadata": {},
   "outputs": [
    {
     "name": "stdout",
     "output_type": "stream",
     "text": [
      "--OUTPUT--\n",
      "Current date and time\n",
      " 24-10-21 03-34-06\n"
     ]
    }
   ],
   "source": [
    "print(\"--OUTPUT--\");\n",
    "import datetime\n",
    "current_date = datetime.datetime.now();\n",
    "print(\"Current date and time\\n\",current_date.strftime(\"%d-%m-%y %H-%M-%S\"));"
   ]
  },
  {
   "cell_type": "markdown",
   "id": "12013916",
   "metadata": {},
   "source": [
    "# Q.No.4\n",
    "Write a python program which accepts the radius of a circle from the user and compute the area."
   ]
  },
  {
   "cell_type": "code",
   "execution_count": 36,
   "id": "c282fc1a",
   "metadata": {},
   "outputs": [
    {
     "name": "stdout",
     "output_type": "stream",
     "text": [
      "--OUTPUT--\n",
      "Enter the radius of the circle2.5\n",
      "Area of the circle with the given radius= 2.5 is  19.634954084936208\n"
     ]
    }
   ],
   "source": [
    "print(\"--OUTPUT--\");\n",
    "from math import pi\n",
    "\n",
    "radius = eval(input(\"Enter the radius of the circle\"));\n",
    "area = pi * radius**2;\n",
    "print(\"Area of the circle with the given radius=\",radius,\"is \",area);"
   ]
  },
  {
   "cell_type": "markdown",
   "id": "3e7893cb",
   "metadata": {},
   "source": [
    "# Q.No.5\n",
    "Write a python program which accepts the user's first and last name and print them in reverse order with a space between them."
   ]
  },
  {
   "cell_type": "code",
   "execution_count": 39,
   "id": "9ef524c9",
   "metadata": {},
   "outputs": [
    {
     "name": "stdout",
     "output_type": "stream",
     "text": [
      "--OUTPUT--\n",
      "Enter your first name :usama\n",
      "Enter your last name :raza\n",
      "raza   usama\n"
     ]
    }
   ],
   "source": [
    "print(\"--OUTPUT--\");\n",
    "first_name = str(input(\"Enter your first name :\"));\n",
    "last_name = str(input(\"Enter your last name :\"));\n",
    "print(last_name,\" \",first_name)"
   ]
  },
  {
   "cell_type": "markdown",
   "id": "a79c56b2",
   "metadata": {},
   "source": [
    "# Q.No.6\n",
    "Write a python program which takes two inputs from user and print them addition."
   ]
  },
  {
   "cell_type": "code",
   "execution_count": 61,
   "id": "36c8c2e5",
   "metadata": {},
   "outputs": [
    {
     "name": "stdout",
     "output_type": "stream",
     "text": [
      "--OUTPUT--\n",
      "Enter number2\n",
      "Enter another number2\n",
      "sum of 2+2 = 4\n"
     ]
    }
   ],
   "source": [
    "print(\"--OUTPUT--\");\n",
    "num1 = eval(input(\"Enter number\"));\n",
    "num2 = eval(input(\"Enter another number\"));\n",
    "sum = num1 + num2;\n",
    "print(\"sum of \",num1,\"+\",num2,\" = \",sum,sep=\"\");"
   ]
  },
  {
   "cell_type": "markdown",
   "id": "2f2bd96a",
   "metadata": {},
   "source": [
    "# Q.No.7\n",
    "Write a program which takes 5 inputs from user for different subjects marks,total it and generate marksheet using grades."
   ]
  },
  {
   "cell_type": "code",
   "execution_count": 60,
   "id": "9632a234",
   "metadata": {},
   "outputs": [
    {
     "name": "stdout",
     "output_type": "stream",
     "text": [
      "--OUTPUT--\n",
      "Enter English marks45\n",
      "Enter Islamiat marks32\n",
      "Enter Maths marks19\n",
      "Enter Urdu marks56\n",
      "Enter Physics marks80\n",
      "English = 45 Islamiat = 32 Maths = 19 Urdu = 56 Physics = 80\n",
      "obtained marks = 232 out of 500\n",
      "your pecentage is 46%\n",
      "you got D\n",
      "Remarks : Poor\n",
      "failed subjects count :  2\n",
      "Failed Subjects Name : Islamiat Maths \n"
     ]
    }
   ],
   "source": [
    "print(\"--OUTPUT--\");\n",
    "import math\n",
    "eng = eval(input(\"Enter English marks\"));\n",
    "isl = eval(input(\"Enter Islamiat marks\"));\n",
    "maths = eval(input(\"Enter Maths marks\"));\n",
    "urdu = eval(input(\"Enter Urdu marks\"));\n",
    "phy = eval(input(\"Enter Physics marks\"));\n",
    "print(\"English =\",eng,\"Islamiat =\",isl,\"Maths =\",maths,\"Urdu =\",urdu,\"Physics =\",phy)\n",
    "total_marks = 500\n",
    "obtained_marks = eng + isl + maths + urdu + phy;\n",
    "print(\"obtained marks =\",obtained_marks,\"out of\",total_marks)\n",
    "percent = obtained_marks / total_marks *100\n",
    "print(\"your pecentage is \",math.floor(percent),\"%\",sep=\"\")\n",
    "\n",
    "if percent < 0 or percent > 100:\n",
    "    print(\"You should give percent between 1-100\");\n",
    "elif percent <= 100 and percent >= 80:\n",
    "    print(\"you got A+\");\n",
    "    print(\"Remarks : Excellent\")\n",
    "elif percent < 80 and percent >= 70:\n",
    "    print(\"you got A\");\n",
    "    print(\"Remarks : Very Good\")\n",
    "elif percent < 70 and percent >=60:\n",
    "    print(\"you got B\");\n",
    "    print(\"Remarks : Good\")\n",
    "elif percent < 60 and percent >=50:\n",
    "    print(\"you got C\");\n",
    "    print(\"Remarks : Fair\")\n",
    "elif percent < 50 and percent >=40:\n",
    "    print(\"you got D\");\n",
    "    print(\"Remarks : Poor\")\n",
    "elif percent < 40 and percent >=33:\n",
    "    print(\"you got E\");\n",
    "    print(\"Remarks : Very Poor\")\n",
    "else:\n",
    "    print(\" Fail \");\n",
    "    print(\"Remarks : Failure\")\n",
    "\n",
    "i = 0\n",
    "fail_subject = \"\"\n",
    "if eng < 33:\n",
    "    i += 1;\n",
    "    fail_subject += \"English \"\n",
    "if isl < 33:\n",
    "    i += 1;\n",
    "    fail_subject += \"Islamiat \"\n",
    "if maths < 33:\n",
    "    i += 1;\n",
    "    fail_subject += \"Maths \"\n",
    "if urdu < 33:\n",
    "    i += 1;\n",
    "    fail_subject += \"urdu \"\n",
    "if phy < 33:\n",
    "    i += 1;\n",
    "    fail_subject += \"phy \"\n",
    "print(\"failed subjects count : \",i)\n",
    "if i> 0:\n",
    "    print(\"Failed Subjects Name :\",fail_subject)\n",
    "else:\n",
    "    print(\"Congratulations! you pass in all subjects :)\")"
   ]
  },
  {
   "cell_type": "markdown",
   "id": "a91e539a",
   "metadata": {},
   "source": [
    "# Q.No.8\n",
    "Write a program which take input from user and identify that the given number is even or odd."
   ]
  },
  {
   "cell_type": "code",
   "execution_count": 59,
   "id": "83444550",
   "metadata": {},
   "outputs": [
    {
     "name": "stdout",
     "output_type": "stream",
     "text": [
      "--OUTPUT--\n",
      "Enter any number either check number is even or odd\n",
      "34\n",
      "34 is Even number\n"
     ]
    }
   ],
   "source": [
    "print(\"--OUTPUT--\");\n",
    "num = eval(input(\"Enter any number either check number is even or odd\\n\"));\n",
    "remainder = num % 2;\n",
    "if remainder == 0:\n",
    "    print(num,\"is Even number\");\n",
    "else:\n",
    "    print(num,\"is Odd number\");"
   ]
  },
  {
   "cell_type": "markdown",
   "id": "0fda5e88",
   "metadata": {},
   "source": [
    "# Q.No.9\n",
    "Write a program which print the length of the list."
   ]
  },
  {
   "cell_type": "code",
   "execution_count": 58,
   "id": "33f64a97",
   "metadata": {},
   "outputs": [
    {
     "name": "stdout",
     "output_type": "stream",
     "text": [
      "--OUTPUT--}\n",
      "length of the list is 5\n"
     ]
    }
   ],
   "source": [
    "print(\"--OUTPUT--}\");\n",
    "fruits = [\"apple\",\"mango\",\"orange\",\"guava\",\"banana\"];\n",
    "print(\"length of the list is\",len(fruits));"
   ]
  },
  {
   "cell_type": "markdown",
   "id": "11eb093d",
   "metadata": {},
   "source": [
    "# Q.No.10\n",
    "Write a python program to sum all the numeric items in a list."
   ]
  },
  {
   "cell_type": "code",
   "execution_count": 57,
   "id": "e51bdf2f",
   "metadata": {},
   "outputs": [
    {
     "name": "stdout",
     "output_type": "stream",
     "text": [
      "--OUTPUT--\n",
      "sum of items is 33\n"
     ]
    }
   ],
   "source": [
    "print(\"--OUTPUT--\");\n",
    "my_list = [1,3,5,6,8,10];\n",
    "sum =0;\n",
    "for i in range(0,len(my_list)):\n",
    "    sum = sum + my_list[i];\n",
    "print(\"sum of items is\",sum);"
   ]
  },
  {
   "cell_type": "markdown",
   "id": "c166806d",
   "metadata": {},
   "source": [
    "# Q.No.11\n",
    "Write a program to get the largest number from a numeric list.\n"
   ]
  },
  {
   "cell_type": "code",
   "execution_count": 79,
   "id": "a79e57a0",
   "metadata": {},
   "outputs": [
    {
     "name": "stdout",
     "output_type": "stream",
     "text": [
      "--OUTPUT--\n",
      "[7, 31, 74, 13, 73, 82, 69, 36, 82, 61]\n",
      "82\n"
     ]
    }
   ],
   "source": [
    "print(\"--OUTPUT--\");\n",
    "import random\n",
    "randomList =[];\n",
    "for i in range(0,10):\n",
    "    n = random.randint(1,100);\n",
    "    randomList.append(n);\n",
    "print(randomList);\n",
    "print(max(randomList));"
   ]
  },
  {
   "cell_type": "markdown",
   "id": "bab12207",
   "metadata": {},
   "source": [
    "# Q.No.12\n",
    "Take a list,say for example this one:\n",
    "a = [1,1,2,3,5,8,13,21,34,55,89]\n",
    "Write a program that prints out all the elements of the list that are less than 5."
   ]
  },
  {
   "cell_type": "code",
   "execution_count": 78,
   "id": "943d5c5e",
   "metadata": {},
   "outputs": [
    {
     "name": "stdout",
     "output_type": "stream",
     "text": [
      "--OUTPUT--\n",
      "[1, 1, 2, 3]\n"
     ]
    }
   ],
   "source": [
    "print(\"--OUTPUT--\");\n",
    "a = [1,1,2,3,5,8,13,21,34,55,89];\n",
    "b = [];\n",
    "for i in a:\n",
    "    if i < 5:\n",
    "        b.append(i);\n",
    "print(b);"
   ]
  },
  {
   "cell_type": "code",
   "execution_count": null,
   "id": "3ad5c42f",
   "metadata": {},
   "outputs": [],
   "source": []
  }
 ],
 "metadata": {
  "kernelspec": {
   "display_name": "Python 3",
   "language": "python",
   "name": "python3"
  },
  "language_info": {
   "codemirror_mode": {
    "name": "ipython",
    "version": 3
   },
   "file_extension": ".py",
   "mimetype": "text/x-python",
   "name": "python",
   "nbconvert_exporter": "python",
   "pygments_lexer": "ipython3",
   "version": "3.8.8"
  }
 },
 "nbformat": 4,
 "nbformat_minor": 5
}
