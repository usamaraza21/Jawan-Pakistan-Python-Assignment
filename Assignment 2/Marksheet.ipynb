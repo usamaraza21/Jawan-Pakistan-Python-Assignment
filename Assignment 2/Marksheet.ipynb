{
 "cells": [
  {
   "cell_type": "code",
   "execution_count": 54,
   "metadata": {},
   "outputs": [
    {
     "name": "stdout",
     "output_type": "stream",
     "text": [
      "English = 98 Islamiat = 61 Maths = 23\n",
      "obtained marks = 182\n",
      "your pecentage is 60%\n",
      "you got B\n",
      "Remarks : Good\n",
      "failed subjects count :  1\n",
      "Failed Subjects Name : Maths \n"
     ]
    }
   ],
   "source": [
    "import math\n",
    "import random\n",
    "eng = random.randint(1,100)\n",
    "isl = random.randint(1,100)\n",
    "maths = random.randint(1,100)\n",
    "print(\"English =\",eng,\"Islamiat =\",isl,\"Maths =\",maths)\n",
    "total_marks = 300\n",
    "obtained_marks = eng + isl + maths\n",
    "print(\"obtained marks =\",obtained_marks)\n",
    "percent = obtained_marks / total_marks *100\n",
    "print(\"your pecentage is \",math.floor(percent),\"%\",sep=\"\")\n",
    "\n",
    "if percent < 0 or percent > 100:\n",
    "    print(\"You should give percent between 1-100\");\n",
    "elif percent <= 100 and percent >= 80:\n",
    "    print(\"you got A+\");\n",
    "    print(\"Remarks : Excellent\")\n",
    "elif percent < 80 and percent >= 70:\n",
    "    print(\"you got A\");\n",
    "    print(\"Remarks : Very Good\")\n",
    "elif percent < 70 and percent >=60:\n",
    "    print(\"you got B\");\n",
    "    print(\"Remarks : Good\")\n",
    "elif percent < 60 and percent >=50:\n",
    "    print(\"you got C\");\n",
    "    print(\"Remarks : Fair\")\n",
    "elif percent < 50 and percent >=40:\n",
    "    print(\"you got D\");\n",
    "    print(\"Remarks : Poor\")\n",
    "elif percent < 40 and percent >=33:\n",
    "    print(\"you got E\");\n",
    "    print(\"Remarks : Very Poor\")\n",
    "else:\n",
    "    print(\" Fail \");\n",
    "    print(\"Remarks : Failure\")\n",
    "\n",
    "i = 0\n",
    "fail_subject = \"\"\n",
    "if eng < 33:\n",
    "    i += 1;\n",
    "    fail_subject += \"English \"\n",
    "if isl < 33:\n",
    "    i += 1;\n",
    "    fail_subject += \"Islamiat \"\n",
    "if maths < 33:\n",
    "    i += 1;\n",
    "    fail_subject += \"Maths \"\n",
    "print(\"failed subjects count : \",i)\n",
    "if i> 0:\n",
    "    print(\"Failed Subjects Name :\",fail_subject)\n",
    "else:\n",
    "    print(\"Congratulations! you pass in all subjects :)\")"
   ]
  },
  {
   "cell_type": "code",
   "execution_count": null,
   "metadata": {},
   "outputs": [],
   "source": []
  },
  {
   "cell_type": "code",
   "execution_count": null,
   "metadata": {},
   "outputs": [],
   "source": []
  },
  {
   "cell_type": "code",
   "execution_count": null,
   "metadata": {},
   "outputs": [],
   "source": []
  }
 ],
 "metadata": {
  "kernelspec": {
   "display_name": "Python 3",
   "language": "python",
   "name": "python3"
  },
  "language_info": {
   "codemirror_mode": {
    "name": "ipython",
    "version": 3
   },
   "file_extension": ".py",
   "mimetype": "text/x-python",
   "name": "python",
   "nbconvert_exporter": "python",
   "pygments_lexer": "ipython3",
   "version": "3.8.5"
  }
 },
 "nbformat": 4,
 "nbformat_minor": 4
}
