{
 "cells": [
  {
   "cell_type": "markdown",
   "metadata": {},
   "source": [
    "# Q.NO.1\n",
    "    Make a calculator using python with addition, subtraction,multiplication and division and power"
   ]
  },
  {
   "cell_type": "code",
   "execution_count": 27,
   "metadata": {},
   "outputs": [
    {
     "name": "stdout",
     "output_type": "stream",
     "text": [
      "Select an operation you want to perform\n",
      "press 1 for addition\n",
      "press 2 for subtraction\n",
      "press 3 for multiplication\n",
      "press 4 for division\n",
      "press 5 for power\n",
      "what operation you want to perform..5\n",
      "Enter Base number3\n",
      "Enter power number4\n",
      "sum of given numbers 3^4 = 81\n"
     ]
    }
   ],
   "source": [
    "print('Select an operation you want to perform')\n",
    "print('press 1 for addition')\n",
    "print('press 2 for subtraction')\n",
    "print('press 3 for multiplication')\n",
    "print('press 4 for division')\n",
    "print('press 5 for power')\n",
    "\n",
    "oper = input('what operation you want to perform..')\n",
    "if oper == '1':\n",
    "    num1 = eval(input('Enter first number '))\n",
    "    num2 = eval(input('Enter second number '))\n",
    "    add = num1 + num2;\n",
    "    print('sum of given numbers',num1,'+',num2,'=',add)\n",
    "elif oper == '2':\n",
    "    num1 = eval(input('Enter first number '))\n",
    "    num2 = eval(input('Enter second number '))\n",
    "    sub = num1 - num2;\n",
    "    print('sum of given numbers',num1,'-',num2,'=',sub)\n",
    "elif oper == '3':\n",
    "    num1 = eval(input('Enter first number '))\n",
    "    num2 = eval(input('Enter second number '))\n",
    "    mul = num1 * num2;\n",
    "    print('sum of given numbers',num1,'*',num2,'=',mul)\n",
    "elif oper == '4':\n",
    "    num1 = eval(input('Enter first number '))\n",
    "    num2 = eval(input('Enter second number '))\n",
    "    div = num1 / num2;\n",
    "    print('sum of given numbers',num1,'/',num2,'=',div)\n",
    "elif oper == '5':\n",
    "    num1 = eval(input('Enter Base number '))\n",
    "    num2 = eval(input('Enter power number '))\n",
    "    power = pow(num1,num2)\n",
    "    print('sum of given numbers ',num1,'^',num2,' = ',power,sep='')\n",
    "else:\n",
    "    print('invalid Entry, press right number fo operation')"
   ]
  },
  {
   "cell_type": "markdown",
   "metadata": {},
   "source": [
    "# Q.NO.2\n",
    "    Write a program to check if there is any numeric value in list using for loop"
   ]
  },
  {
   "cell_type": "code",
   "execution_count": 4,
   "metadata": {},
   "outputs": [
    {
     "name": "stdout",
     "output_type": "stream",
     "text": [
      "['usama', 'raza', 6, 'syed', 4]\n",
      "--numeric values--\n",
      "6\n",
      "4\n"
     ]
    }
   ],
   "source": [
    "list = [\"usama\",\"raza\",6,\"syed\",4]\n",
    "print(list)\n",
    "print(\"--numeric values--\")\n",
    "for i in list:\n",
    "    if type(i) == int:\n",
    "        print(i);"
   ]
  },
  {
   "cell_type": "markdown",
   "metadata": {},
   "source": [
    "# Q.NO.3\n",
    "    Write a python script to add a key to dictionary"
   ]
  },
  {
   "cell_type": "code",
   "execution_count": 7,
   "metadata": {},
   "outputs": [
    {
     "name": "stdout",
     "output_type": "stream",
     "text": [
      "original : {'a': 1, 'b': 2, 'c': 3}\n",
      "updated : {'a': 1, 'b': 2, 'c': 3, 'd': 4}\n"
     ]
    }
   ],
   "source": [
    "dict1 = {'a':1,'b':2,'c':3};\n",
    "print('original :',dict1);\n",
    "dict1.update({'d':4})\n",
    "print('updated :',dict1)"
   ]
  },
  {
   "cell_type": "markdown",
   "metadata": {},
   "source": [
    "# Q.NO.4\n",
    "    Write a python program to sum all the numeric items in dictionary"
   ]
  },
  {
   "cell_type": "code",
   "execution_count": 9,
   "metadata": {},
   "outputs": [
    {
     "name": "stdout",
     "output_type": "stream",
     "text": [
      "Totoal number of sum in dictionary = 100\n"
     ]
    }
   ],
   "source": [
    "addition = {\"num1\":50,\"num2\":30,\"num3\":20};\n",
    "summ = sum(addition.values())\n",
    "print('Totoal number of sum in dictionary =',summ)"
   ]
  },
  {
   "cell_type": "markdown",
   "metadata": {},
   "source": [
    "# Q.NO.5\n",
    "    Write a program to identify duplicates values from list"
   ]
  },
  {
   "cell_type": "code",
   "execution_count": 10,
   "metadata": {},
   "outputs": [
    {
     "name": "stdout",
     "output_type": "stream",
     "text": [
      "[1, 2, 3, 4, 5, 6, 9, 7, 12]\n"
     ]
    }
   ],
   "source": [
    "numbers = [1,2,3,2,3,4,3,4,5,4,5,6,9,7,12];\n",
    "n1 = [];\n",
    "for i in numbers:\n",
    "    if i not in n1:\n",
    "        n1.append(i);\n",
    "print(n1)"
   ]
  },
  {
   "cell_type": "markdown",
   "metadata": {},
   "source": [
    "# Q.NO.6\n",
    "    Write a python script to check if a given key is already exists in a dictionary"
   ]
  },
  {
   "cell_type": "code",
   "execution_count": 16,
   "metadata": {},
   "outputs": [
    {
     "name": "stdout",
     "output_type": "stream",
     "text": [
      "Enter key check if exists or not/ngoo\n",
      "Not present\n",
      "Enter key check if exists or not\n",
      "Maths\n",
      "already exist,  value of that key = 58\n"
     ]
    }
   ],
   "source": [
    "def check(marks, key):\n",
    "      \n",
    "    if key in marks.keys():\n",
    "        print(\"already exist, \", end =\" \")\n",
    "        print(\"value of that key =\", marks[key])\n",
    "    else:\n",
    "        print(\"Not present\")\n",
    "  \n",
    "marks = {'maths': 58, 'urdu':80, 'english':100}\n",
    "  \n",
    "key = input(\"Enter key check if exists or not/n\")\n",
    "check(marks, key)\n",
    "  \n",
    "key = input(\"Enter key check if exists or not\\n\")\n",
    "check(marks, key)"
   ]
  },
  {
   "cell_type": "code",
   "execution_count": null,
   "metadata": {},
   "outputs": [],
   "source": []
  }
 ],
 "metadata": {
  "kernelspec": {
   "display_name": "Python 3",
   "language": "python",
   "name": "python3"
  },
  "language_info": {
   "codemirror_mode": {
    "name": "ipython",
    "version": 3
   },
   "file_extension": ".py",
   "mimetype": "text/x-python",
   "name": "python",
   "nbconvert_exporter": "python",
   "pygments_lexer": "ipython3",
   "version": "3.8.5"
  }
 },
 "nbformat": 4,
 "nbformat_minor": 4
}
